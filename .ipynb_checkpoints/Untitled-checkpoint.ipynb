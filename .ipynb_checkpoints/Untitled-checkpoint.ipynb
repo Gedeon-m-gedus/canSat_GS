{
 "cells": [
  {
   "cell_type": "code",
   "execution_count": 15,
   "metadata": {},
   "outputs": [],
   "source": [
    "import main\n"
   ]
  },
  {
   "cell_type": "code",
   "execution_count": 16,
   "metadata": {},
   "outputs": [],
   "source": [
    "main.main_account_screen()"
   ]
  },
  {
   "cell_type": "code",
   "execution_count": 58,
   "metadata": {},
   "outputs": [],
   "source": [
    "with open('./files/commands/can_sat_ground_station_command.txt') as f:\n",
    "    contents = f.readlines()\n"
   ]
  },
  {
   "cell_type": "code",
   "execution_count": 59,
   "metadata": {},
   "outputs": [],
   "source": []
  },
  {
   "cell_type": "code",
   "execution_count": 60,
   "metadata": {},
   "outputs": [],
   "source": [
    "com = listToString(contents).split('!!!')"
   ]
  },
  {
   "cell_type": "code",
   "execution_count": 53,
   "metadata": {},
   "outputs": [
    {
     "data": {
      "text/plain": [
       "2"
      ]
     },
     "execution_count": 53,
     "metadata": {},
     "output_type": "execute_result"
    }
   ],
   "source": [
    "len(com)"
   ]
  },
  {
   "cell_type": "code",
   "execution_count": 50,
   "metadata": {},
   "outputs": [
    {
     "data": {
      "text/plain": [
       "[' mission data commands',\n",
       " 'take_snap ts',\n",
       " 'get_recent_snap grs',\n",
       " 'get_previous_recent_snap gprs',\n",
       " 'get_all_snap gas',\n",
       " '']"
      ]
     },
     "execution_count": 50,
     "metadata": {},
     "output_type": "execute_result"
    }
   ],
   "source": [
    "com[-1].split('\\n')"
   ]
  },
  {
   "cell_type": "code",
   "execution_count": 71,
   "metadata": {},
   "outputs": [],
   "source": [
    "command_dict = {}"
   ]
  },
  {
   "cell_type": "code",
   "execution_count": 61,
   "metadata": {},
   "outputs": [
    {
     "data": {
      "text/plain": [
       "''"
      ]
     },
     "execution_count": 61,
     "metadata": {},
     "output_type": "execute_result"
    }
   ],
   "source": [
    "com.pop(0)\n"
   ]
  },
  {
   "cell_type": "code",
   "execution_count": 62,
   "metadata": {},
   "outputs": [
    {
     "name": "stdout",
     "output_type": "stream",
     "text": [
      "['o']\n"
     ]
    },
    {
     "ename": "KeyError",
     "evalue": "'o'",
     "output_type": "error",
     "traceback": [
      "\u001b[0;31m---------------------------------------------------------------------------\u001b[0m",
      "\u001b[0;31mKeyError\u001b[0m                                  Traceback (most recent call last)",
      "\u001b[0;32m<ipython-input-62-10a6b816413b>\u001b[0m in \u001b[0;36m<module>\u001b[0;34m\u001b[0m\n\u001b[1;32m      8\u001b[0m             \u001b[0mcomm\u001b[0m \u001b[0;34m=\u001b[0m \u001b[0mc\u001b[0m\u001b[0;34m[\u001b[0m\u001b[0mi\u001b[0m\u001b[0;34m]\u001b[0m\u001b[0;34m.\u001b[0m\u001b[0msplit\u001b[0m\u001b[0;34m(\u001b[0m\u001b[0;34m' '\u001b[0m\u001b[0;34m)\u001b[0m\u001b[0;34m\u001b[0m\u001b[0;34m\u001b[0m\u001b[0m\n\u001b[1;32m      9\u001b[0m             \u001b[0mprint\u001b[0m\u001b[0;34m(\u001b[0m\u001b[0mcomm\u001b[0m\u001b[0;34m)\u001b[0m\u001b[0;34m\u001b[0m\u001b[0;34m\u001b[0m\u001b[0m\n\u001b[0;32m---> 10\u001b[0;31m             \u001b[0mcommand_dict\u001b[0m\u001b[0;34m[\u001b[0m\u001b[0mc\u001b[0m\u001b[0;34m[\u001b[0m\u001b[0mi\u001b[0m\u001b[0;34m]\u001b[0m\u001b[0;34m]\u001b[0m\u001b[0;34m.\u001b[0m\u001b[0mappend\u001b[0m\u001b[0;34m(\u001b[0m\u001b[0mcomm\u001b[0m\u001b[0;34m)\u001b[0m\u001b[0;34m\u001b[0m\u001b[0;34m\u001b[0m\u001b[0m\n\u001b[0m\u001b[1;32m     11\u001b[0m         \u001b[0mi\u001b[0m \u001b[0;34m+=\u001b[0m \u001b[0;36m1\u001b[0m\u001b[0;34m\u001b[0m\u001b[0;34m\u001b[0m\u001b[0m\n",
      "\u001b[0;31mKeyError\u001b[0m: 'o'"
     ]
    }
   ],
   "source": [
    "for c in com:\n",
    "    #print(c.split('\\n'))\n",
    "    i = 0\n",
    "    while i <len(c):\n",
    "        if i == 0:\n",
    "            command_dict[c[i]]=[]\n",
    "        else:\n",
    "            comm = c[i].split(' ')\n",
    "            print(comm)\n",
    "            command_dict[c[i]].append(comm)\n",
    "        i += 1"
   ]
  },
  {
   "cell_type": "code",
   "execution_count": 72,
   "metadata": {},
   "outputs": [],
   "source": [
    "for i,c in enumerate(com):\n",
    "    cc = c.split('\\n')\n",
    "    command_dict[cc[i]] = cc[1:]"
   ]
  },
  {
   "cell_type": "code",
   "execution_count": 73,
   "metadata": {},
   "outputs": [
    {
     "name": "stdout",
     "output_type": "stream",
     "text": [
      "{'house_keeping_data_commands ': ['get_current_temp gct', 'get_previous_temp gpt', 'get_all_temp gal ', 'get_current_gps_position gcg_1', 'get_previous_gps_position gpp_1', 'get_all_gps_position gap_1', 'get_current_gyroscope_position gcg_2', 'get_previous_gyroscope_position gpg_2', 'get_all_gyroscope_position gag_2', 'get_current_humidity gch', 'get_previous_humidity gph', 'get_all_humidity gah', 'get_current_altitude gca', 'get_previous_altitude gpa', 'get_all_altitude gaa', ''], 'take_snap ts': ['take_snap ts', 'get_recent_snap grs', 'get_previous_recent_snap gprs', 'get_all_snap gas', '']}\n"
     ]
    }
   ],
   "source": [
    "print(command_dict)"
   ]
  },
  {
   "cell_type": "code",
   "execution_count": 77,
   "metadata": {},
   "outputs": [
    {
     "data": {
      "text/plain": [
       "['get_current_temp gct',\n",
       " 'get_previous_temp gpt',\n",
       " 'get_all_temp gal ',\n",
       " 'get_current_gps_position gcg_1',\n",
       " 'get_previous_gps_position gpp_1',\n",
       " 'get_all_gps_position gap_1',\n",
       " 'get_current_gyroscope_position gcg_2',\n",
       " 'get_previous_gyroscope_position gpg_2',\n",
       " 'get_all_gyroscope_position gag_2',\n",
       " 'get_current_humidity gch',\n",
       " 'get_previous_humidity gph',\n",
       " 'get_all_humidity gah',\n",
       " 'get_current_altitude gca',\n",
       " 'get_previous_altitude gpa',\n",
       " 'get_all_altitude gaa',\n",
       " '']"
      ]
     },
     "execution_count": 77,
     "metadata": {},
     "output_type": "execute_result"
    }
   ],
   "source": [
    "command_dict['house_keeping_data_commands ']"
   ]
  },
  {
   "cell_type": "code",
   "execution_count": 11,
   "metadata": {},
   "outputs": [],
   "source": [
    "def cleanCommands(path='./files/commands/can_sat_ground_station_command.txt'):\n",
    "    with open(path) as f:\n",
    "        commands_file = f.readlines()\n",
    "    commands = listToString(commands_file).split('!!!')\n",
    "    commands.pop(0)\n",
    "    command_dict = {}\n",
    "    for i,c in enumerate(commands):\n",
    "        cc = c.split('\\n')\n",
    "        command_dict[cc[i]] = cc[1:]\n",
    "    return command_dict\n",
    "\n",
    "    \n",
    "def listToString(s):  \n",
    "    \n",
    "    # initialize an empty string \n",
    "    str1 = \"\"  \n",
    "    \n",
    "    # traverse in the string   \n",
    "    for ele in s:  \n",
    "        str1 += ele   \n",
    "    \n",
    "    # return string   \n",
    "    return str1  "
   ]
  },
  {
   "cell_type": "code",
   "execution_count": 12,
   "metadata": {},
   "outputs": [
    {
     "data": {
      "text/plain": [
       "{'house_keeping_data_commands': ['get_current_temp gct',\n",
       "  'get_previous_temp gpt',\n",
       "  'get_all_temp gal ',\n",
       "  'get_current_gps_position gcg_1',\n",
       "  'get_previous_gps_position gpp_1',\n",
       "  'get_all_gps_position gap_1',\n",
       "  'get_current_gyroscope_position gcg_2',\n",
       "  'get_previous_gyroscope_position gpg_2',\n",
       "  'get_all_gyroscope_position gag_2',\n",
       "  'get_current_humidity gch',\n",
       "  'get_previous_humidity gph',\n",
       "  'get_all_humidity gah',\n",
       "  'get_current_altitude gca',\n",
       "  'get_previous_altitude gpa',\n",
       "  'get_all_altitude gaa',\n",
       "  ''],\n",
       " 'take_snap ts': ['take_snap ts',\n",
       "  'get_recent_snap grs',\n",
       "  'get_previous_recent_snap gprs',\n",
       "  'get_all_snap gas',\n",
       "  '']}"
      ]
     },
     "execution_count": 12,
     "metadata": {},
     "output_type": "execute_result"
    }
   ],
   "source": [
    "cleanCommands()"
   ]
  },
  {
   "cell_type": "code",
   "execution_count": 13,
   "metadata": {},
   "outputs": [],
   "source": [
    "import commands"
   ]
  },
  {
   "cell_type": "code",
   "execution_count": 14,
   "metadata": {},
   "outputs": [
    {
     "data": {
      "text/plain": [
       "{'house_keeping_data_commands': ['get_current_temp gct',\n",
       "  'get_previous_temp gpt',\n",
       "  'get_all_temp gal ',\n",
       "  'get_current_gps_position gcg_1',\n",
       "  'get_previous_gps_position gpp_1',\n",
       "  'get_all_gps_position gap_1',\n",
       "  'get_current_gyroscope_position gcg_2',\n",
       "  'get_previous_gyroscope_position gpg_2',\n",
       "  'get_all_gyroscope_position gag_2',\n",
       "  'get_current_humidity gch',\n",
       "  'get_previous_humidity gph',\n",
       "  'get_all_humidity gah',\n",
       "  'get_current_altitude gca',\n",
       "  'get_previous_altitude gpa',\n",
       "  'get_all_altitude gaa',\n",
       "  ''],\n",
       " 'take_snap ts': ['take_snap ts',\n",
       "  'get_recent_snap grs',\n",
       "  'get_previous_recent_snap gprs',\n",
       "  'get_all_snap gas',\n",
       "  '']}"
      ]
     },
     "execution_count": 14,
     "metadata": {},
     "output_type": "execute_result"
    }
   ],
   "source": [
    "commands.cleanCommands()"
   ]
  },
  {
   "cell_type": "code",
   "execution_count": null,
   "metadata": {},
   "outputs": [],
   "source": []
  }
 ],
 "metadata": {
  "kernelspec": {
   "display_name": "Python 3",
   "language": "python",
   "name": "python3"
  },
  "language_info": {
   "codemirror_mode": {
    "name": "ipython",
    "version": 3
   },
   "file_extension": ".py",
   "mimetype": "text/x-python",
   "name": "python",
   "nbconvert_exporter": "python",
   "pygments_lexer": "ipython3",
   "version": "3.7.4"
  }
 },
 "nbformat": 4,
 "nbformat_minor": 4
}
